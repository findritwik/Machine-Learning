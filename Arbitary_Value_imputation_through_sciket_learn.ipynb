{
  "nbformat": 4,
  "nbformat_minor": 0,
  "metadata": {
    "colab": {
      "provenance": []
    },
    "kernelspec": {
      "name": "python3",
      "display_name": "Python 3"
    },
    "language_info": {
      "name": "python"
    }
  },
  "cells": [
    {
      "cell_type": "code",
      "execution_count": 100,
      "metadata": {
        "id": "mI8prPAgh_9j"
      },
      "outputs": [],
      "source": [
        "import pandas as pd\n",
        "import numpy as np\n",
        "import matplotlib.pyplot as plt\n",
        "from sklearn.model_selection import train_test_split\n",
        "from sklearn.impute import SimpleImputer\n",
        "from sklearn.compose import ColumnTransformer\n",
        "from sklearn.impute import SimpleImputer\n",
        "from sklearn.compose import ColumnTransformer"
      ]
    },
    {
      "cell_type": "code",
      "source": [
        "df = pd.read_csv('/content/titanic_toy.csv')"
      ],
      "metadata": {
        "id": "r7Gi5UU1iAuL"
      },
      "execution_count": 101,
      "outputs": []
    },
    {
      "cell_type": "code",
      "source": [
        "df"
      ],
      "metadata": {
        "colab": {
          "base_uri": "https://localhost:8080/",
          "height": 424
        },
        "id": "RPpG6ikSiPef",
        "outputId": "5777c8a5-2786-42ec-9468-6f871e2a7296"
      },
      "execution_count": 102,
      "outputs": [
        {
          "output_type": "execute_result",
          "data": {
            "text/plain": [
              "      Age     Fare  Family  Survived\n",
              "0    22.0   7.2500       1         0\n",
              "1    38.0  71.2833       1         1\n",
              "2    26.0   7.9250       0         1\n",
              "3    35.0  53.1000       1         1\n",
              "4    35.0   8.0500       0         0\n",
              "..    ...      ...     ...       ...\n",
              "886  27.0  13.0000       0         0\n",
              "887  19.0  30.0000       0         1\n",
              "888   NaN  23.4500       3         0\n",
              "889  26.0      NaN       0         1\n",
              "890  32.0   7.7500       0         0\n",
              "\n",
              "[891 rows x 4 columns]"
            ],
            "text/html": [
              "\n",
              "  <div id=\"df-32f3f423-df25-4255-9942-bbae5953ae46\" class=\"colab-df-container\">\n",
              "    <div>\n",
              "<style scoped>\n",
              "    .dataframe tbody tr th:only-of-type {\n",
              "        vertical-align: middle;\n",
              "    }\n",
              "\n",
              "    .dataframe tbody tr th {\n",
              "        vertical-align: top;\n",
              "    }\n",
              "\n",
              "    .dataframe thead th {\n",
              "        text-align: right;\n",
              "    }\n",
              "</style>\n",
              "<table border=\"1\" class=\"dataframe\">\n",
              "  <thead>\n",
              "    <tr style=\"text-align: right;\">\n",
              "      <th></th>\n",
              "      <th>Age</th>\n",
              "      <th>Fare</th>\n",
              "      <th>Family</th>\n",
              "      <th>Survived</th>\n",
              "    </tr>\n",
              "  </thead>\n",
              "  <tbody>\n",
              "    <tr>\n",
              "      <th>0</th>\n",
              "      <td>22.0</td>\n",
              "      <td>7.2500</td>\n",
              "      <td>1</td>\n",
              "      <td>0</td>\n",
              "    </tr>\n",
              "    <tr>\n",
              "      <th>1</th>\n",
              "      <td>38.0</td>\n",
              "      <td>71.2833</td>\n",
              "      <td>1</td>\n",
              "      <td>1</td>\n",
              "    </tr>\n",
              "    <tr>\n",
              "      <th>2</th>\n",
              "      <td>26.0</td>\n",
              "      <td>7.9250</td>\n",
              "      <td>0</td>\n",
              "      <td>1</td>\n",
              "    </tr>\n",
              "    <tr>\n",
              "      <th>3</th>\n",
              "      <td>35.0</td>\n",
              "      <td>53.1000</td>\n",
              "      <td>1</td>\n",
              "      <td>1</td>\n",
              "    </tr>\n",
              "    <tr>\n",
              "      <th>4</th>\n",
              "      <td>35.0</td>\n",
              "      <td>8.0500</td>\n",
              "      <td>0</td>\n",
              "      <td>0</td>\n",
              "    </tr>\n",
              "    <tr>\n",
              "      <th>...</th>\n",
              "      <td>...</td>\n",
              "      <td>...</td>\n",
              "      <td>...</td>\n",
              "      <td>...</td>\n",
              "    </tr>\n",
              "    <tr>\n",
              "      <th>886</th>\n",
              "      <td>27.0</td>\n",
              "      <td>13.0000</td>\n",
              "      <td>0</td>\n",
              "      <td>0</td>\n",
              "    </tr>\n",
              "    <tr>\n",
              "      <th>887</th>\n",
              "      <td>19.0</td>\n",
              "      <td>30.0000</td>\n",
              "      <td>0</td>\n",
              "      <td>1</td>\n",
              "    </tr>\n",
              "    <tr>\n",
              "      <th>888</th>\n",
              "      <td>NaN</td>\n",
              "      <td>23.4500</td>\n",
              "      <td>3</td>\n",
              "      <td>0</td>\n",
              "    </tr>\n",
              "    <tr>\n",
              "      <th>889</th>\n",
              "      <td>26.0</td>\n",
              "      <td>NaN</td>\n",
              "      <td>0</td>\n",
              "      <td>1</td>\n",
              "    </tr>\n",
              "    <tr>\n",
              "      <th>890</th>\n",
              "      <td>32.0</td>\n",
              "      <td>7.7500</td>\n",
              "      <td>0</td>\n",
              "      <td>0</td>\n",
              "    </tr>\n",
              "  </tbody>\n",
              "</table>\n",
              "<p>891 rows × 4 columns</p>\n",
              "</div>\n",
              "    <div class=\"colab-df-buttons\">\n",
              "\n",
              "  <div class=\"colab-df-container\">\n",
              "    <button class=\"colab-df-convert\" onclick=\"convertToInteractive('df-32f3f423-df25-4255-9942-bbae5953ae46')\"\n",
              "            title=\"Convert this dataframe to an interactive table.\"\n",
              "            style=\"display:none;\">\n",
              "\n",
              "  <svg xmlns=\"http://www.w3.org/2000/svg\" height=\"24px\" viewBox=\"0 -960 960 960\">\n",
              "    <path d=\"M120-120v-720h720v720H120Zm60-500h600v-160H180v160Zm220 220h160v-160H400v160Zm0 220h160v-160H400v160ZM180-400h160v-160H180v160Zm440 0h160v-160H620v160ZM180-180h160v-160H180v160Zm440 0h160v-160H620v160Z\"/>\n",
              "  </svg>\n",
              "    </button>\n",
              "\n",
              "  <style>\n",
              "    .colab-df-container {\n",
              "      display:flex;\n",
              "      gap: 12px;\n",
              "    }\n",
              "\n",
              "    .colab-df-convert {\n",
              "      background-color: #E8F0FE;\n",
              "      border: none;\n",
              "      border-radius: 50%;\n",
              "      cursor: pointer;\n",
              "      display: none;\n",
              "      fill: #1967D2;\n",
              "      height: 32px;\n",
              "      padding: 0 0 0 0;\n",
              "      width: 32px;\n",
              "    }\n",
              "\n",
              "    .colab-df-convert:hover {\n",
              "      background-color: #E2EBFA;\n",
              "      box-shadow: 0px 1px 2px rgba(60, 64, 67, 0.3), 0px 1px 3px 1px rgba(60, 64, 67, 0.15);\n",
              "      fill: #174EA6;\n",
              "    }\n",
              "\n",
              "    .colab-df-buttons div {\n",
              "      margin-bottom: 4px;\n",
              "    }\n",
              "\n",
              "    [theme=dark] .colab-df-convert {\n",
              "      background-color: #3B4455;\n",
              "      fill: #D2E3FC;\n",
              "    }\n",
              "\n",
              "    [theme=dark] .colab-df-convert:hover {\n",
              "      background-color: #434B5C;\n",
              "      box-shadow: 0px 1px 3px 1px rgba(0, 0, 0, 0.15);\n",
              "      filter: drop-shadow(0px 1px 2px rgba(0, 0, 0, 0.3));\n",
              "      fill: #FFFFFF;\n",
              "    }\n",
              "  </style>\n",
              "\n",
              "    <script>\n",
              "      const buttonEl =\n",
              "        document.querySelector('#df-32f3f423-df25-4255-9942-bbae5953ae46 button.colab-df-convert');\n",
              "      buttonEl.style.display =\n",
              "        google.colab.kernel.accessAllowed ? 'block' : 'none';\n",
              "\n",
              "      async function convertToInteractive(key) {\n",
              "        const element = document.querySelector('#df-32f3f423-df25-4255-9942-bbae5953ae46');\n",
              "        const dataTable =\n",
              "          await google.colab.kernel.invokeFunction('convertToInteractive',\n",
              "                                                    [key], {});\n",
              "        if (!dataTable) return;\n",
              "\n",
              "        const docLinkHtml = 'Like what you see? Visit the ' +\n",
              "          '<a target=\"_blank\" href=https://colab.research.google.com/notebooks/data_table.ipynb>data table notebook</a>'\n",
              "          + ' to learn more about interactive tables.';\n",
              "        element.innerHTML = '';\n",
              "        dataTable['output_type'] = 'display_data';\n",
              "        await google.colab.output.renderOutput(dataTable, element);\n",
              "        const docLink = document.createElement('div');\n",
              "        docLink.innerHTML = docLinkHtml;\n",
              "        element.appendChild(docLink);\n",
              "      }\n",
              "    </script>\n",
              "  </div>\n",
              "\n",
              "\n",
              "    <div id=\"df-54e75d6f-7249-4048-9303-9b01faa00b09\">\n",
              "      <button class=\"colab-df-quickchart\" onclick=\"quickchart('df-54e75d6f-7249-4048-9303-9b01faa00b09')\"\n",
              "                title=\"Suggest charts\"\n",
              "                style=\"display:none;\">\n",
              "\n",
              "<svg xmlns=\"http://www.w3.org/2000/svg\" height=\"24px\"viewBox=\"0 0 24 24\"\n",
              "     width=\"24px\">\n",
              "    <g>\n",
              "        <path d=\"M19 3H5c-1.1 0-2 .9-2 2v14c0 1.1.9 2 2 2h14c1.1 0 2-.9 2-2V5c0-1.1-.9-2-2-2zM9 17H7v-7h2v7zm4 0h-2V7h2v10zm4 0h-2v-4h2v4z\"/>\n",
              "    </g>\n",
              "</svg>\n",
              "      </button>\n",
              "\n",
              "<style>\n",
              "  .colab-df-quickchart {\n",
              "      --bg-color: #E8F0FE;\n",
              "      --fill-color: #1967D2;\n",
              "      --hover-bg-color: #E2EBFA;\n",
              "      --hover-fill-color: #174EA6;\n",
              "      --disabled-fill-color: #AAA;\n",
              "      --disabled-bg-color: #DDD;\n",
              "  }\n",
              "\n",
              "  [theme=dark] .colab-df-quickchart {\n",
              "      --bg-color: #3B4455;\n",
              "      --fill-color: #D2E3FC;\n",
              "      --hover-bg-color: #434B5C;\n",
              "      --hover-fill-color: #FFFFFF;\n",
              "      --disabled-bg-color: #3B4455;\n",
              "      --disabled-fill-color: #666;\n",
              "  }\n",
              "\n",
              "  .colab-df-quickchart {\n",
              "    background-color: var(--bg-color);\n",
              "    border: none;\n",
              "    border-radius: 50%;\n",
              "    cursor: pointer;\n",
              "    display: none;\n",
              "    fill: var(--fill-color);\n",
              "    height: 32px;\n",
              "    padding: 0;\n",
              "    width: 32px;\n",
              "  }\n",
              "\n",
              "  .colab-df-quickchart:hover {\n",
              "    background-color: var(--hover-bg-color);\n",
              "    box-shadow: 0 1px 2px rgba(60, 64, 67, 0.3), 0 1px 3px 1px rgba(60, 64, 67, 0.15);\n",
              "    fill: var(--button-hover-fill-color);\n",
              "  }\n",
              "\n",
              "  .colab-df-quickchart-complete:disabled,\n",
              "  .colab-df-quickchart-complete:disabled:hover {\n",
              "    background-color: var(--disabled-bg-color);\n",
              "    fill: var(--disabled-fill-color);\n",
              "    box-shadow: none;\n",
              "  }\n",
              "\n",
              "  .colab-df-spinner {\n",
              "    border: 2px solid var(--fill-color);\n",
              "    border-color: transparent;\n",
              "    border-bottom-color: var(--fill-color);\n",
              "    animation:\n",
              "      spin 1s steps(1) infinite;\n",
              "  }\n",
              "\n",
              "  @keyframes spin {\n",
              "    0% {\n",
              "      border-color: transparent;\n",
              "      border-bottom-color: var(--fill-color);\n",
              "      border-left-color: var(--fill-color);\n",
              "    }\n",
              "    20% {\n",
              "      border-color: transparent;\n",
              "      border-left-color: var(--fill-color);\n",
              "      border-top-color: var(--fill-color);\n",
              "    }\n",
              "    30% {\n",
              "      border-color: transparent;\n",
              "      border-left-color: var(--fill-color);\n",
              "      border-top-color: var(--fill-color);\n",
              "      border-right-color: var(--fill-color);\n",
              "    }\n",
              "    40% {\n",
              "      border-color: transparent;\n",
              "      border-right-color: var(--fill-color);\n",
              "      border-top-color: var(--fill-color);\n",
              "    }\n",
              "    60% {\n",
              "      border-color: transparent;\n",
              "      border-right-color: var(--fill-color);\n",
              "    }\n",
              "    80% {\n",
              "      border-color: transparent;\n",
              "      border-right-color: var(--fill-color);\n",
              "      border-bottom-color: var(--fill-color);\n",
              "    }\n",
              "    90% {\n",
              "      border-color: transparent;\n",
              "      border-bottom-color: var(--fill-color);\n",
              "    }\n",
              "  }\n",
              "</style>\n",
              "\n",
              "      <script>\n",
              "        async function quickchart(key) {\n",
              "          const quickchartButtonEl =\n",
              "            document.querySelector('#' + key + ' button');\n",
              "          quickchartButtonEl.disabled = true;  // To prevent multiple clicks.\n",
              "          quickchartButtonEl.classList.add('colab-df-spinner');\n",
              "          try {\n",
              "            const charts = await google.colab.kernel.invokeFunction(\n",
              "                'suggestCharts', [key], {});\n",
              "          } catch (error) {\n",
              "            console.error('Error during call to suggestCharts:', error);\n",
              "          }\n",
              "          quickchartButtonEl.classList.remove('colab-df-spinner');\n",
              "          quickchartButtonEl.classList.add('colab-df-quickchart-complete');\n",
              "        }\n",
              "        (() => {\n",
              "          let quickchartButtonEl =\n",
              "            document.querySelector('#df-54e75d6f-7249-4048-9303-9b01faa00b09 button');\n",
              "          quickchartButtonEl.style.display =\n",
              "            google.colab.kernel.accessAllowed ? 'block' : 'none';\n",
              "        })();\n",
              "      </script>\n",
              "    </div>\n",
              "\n",
              "  <div id=\"id_7f0a1be4-94a9-4983-9642-8d77bb87971d\">\n",
              "    <style>\n",
              "      .colab-df-generate {\n",
              "        background-color: #E8F0FE;\n",
              "        border: none;\n",
              "        border-radius: 50%;\n",
              "        cursor: pointer;\n",
              "        display: none;\n",
              "        fill: #1967D2;\n",
              "        height: 32px;\n",
              "        padding: 0 0 0 0;\n",
              "        width: 32px;\n",
              "      }\n",
              "\n",
              "      .colab-df-generate:hover {\n",
              "        background-color: #E2EBFA;\n",
              "        box-shadow: 0px 1px 2px rgba(60, 64, 67, 0.3), 0px 1px 3px 1px rgba(60, 64, 67, 0.15);\n",
              "        fill: #174EA6;\n",
              "      }\n",
              "\n",
              "      [theme=dark] .colab-df-generate {\n",
              "        background-color: #3B4455;\n",
              "        fill: #D2E3FC;\n",
              "      }\n",
              "\n",
              "      [theme=dark] .colab-df-generate:hover {\n",
              "        background-color: #434B5C;\n",
              "        box-shadow: 0px 1px 3px 1px rgba(0, 0, 0, 0.15);\n",
              "        filter: drop-shadow(0px 1px 2px rgba(0, 0, 0, 0.3));\n",
              "        fill: #FFFFFF;\n",
              "      }\n",
              "    </style>\n",
              "    <button class=\"colab-df-generate\" onclick=\"generateWithVariable('df')\"\n",
              "            title=\"Generate code using this dataframe.\"\n",
              "            style=\"display:none;\">\n",
              "\n",
              "  <svg xmlns=\"http://www.w3.org/2000/svg\" height=\"24px\"viewBox=\"0 0 24 24\"\n",
              "       width=\"24px\">\n",
              "    <path d=\"M7,19H8.4L18.45,9,17,7.55,7,17.6ZM5,21V16.75L18.45,3.32a2,2,0,0,1,2.83,0l1.4,1.43a1.91,1.91,0,0,1,.58,1.4,1.91,1.91,0,0,1-.58,1.4L9.25,21ZM18.45,9,17,7.55Zm-12,3A5.31,5.31,0,0,0,4.9,8.1,5.31,5.31,0,0,0,1,6.5,5.31,5.31,0,0,0,4.9,4.9,5.31,5.31,0,0,0,6.5,1,5.31,5.31,0,0,0,8.1,4.9,5.31,5.31,0,0,0,12,6.5,5.46,5.46,0,0,0,6.5,12Z\"/>\n",
              "  </svg>\n",
              "    </button>\n",
              "    <script>\n",
              "      (() => {\n",
              "      const buttonEl =\n",
              "        document.querySelector('#id_7f0a1be4-94a9-4983-9642-8d77bb87971d button.colab-df-generate');\n",
              "      buttonEl.style.display =\n",
              "        google.colab.kernel.accessAllowed ? 'block' : 'none';\n",
              "\n",
              "      buttonEl.onclick = () => {\n",
              "        google.colab.notebook.generateWithVariable('df');\n",
              "      }\n",
              "      })();\n",
              "    </script>\n",
              "  </div>\n",
              "\n",
              "    </div>\n",
              "  </div>\n"
            ],
            "application/vnd.google.colaboratory.intrinsic+json": {
              "type": "dataframe",
              "variable_name": "df",
              "summary": "{\n  \"name\": \"df\",\n  \"rows\": 891,\n  \"fields\": [\n    {\n      \"column\": \"Age\",\n      \"properties\": {\n        \"dtype\": \"number\",\n        \"std\": 14.526497332334044,\n        \"min\": 0.42,\n        \"max\": 80.0,\n        \"num_unique_values\": 88,\n        \"samples\": [\n          0.75,\n          22.0,\n          49.0\n        ],\n        \"semantic_type\": \"\",\n        \"description\": \"\"\n      }\n    },\n    {\n      \"column\": \"Fare\",\n      \"properties\": {\n        \"dtype\": \"number\",\n        \"std\": 50.30579565914795,\n        \"min\": 0.0,\n        \"max\": 512.3292,\n        \"num_unique_values\": 242,\n        \"samples\": [\n          7.8792,\n          51.8625,\n          133.65\n        ],\n        \"semantic_type\": \"\",\n        \"description\": \"\"\n      }\n    },\n    {\n      \"column\": \"Family\",\n      \"properties\": {\n        \"dtype\": \"number\",\n        \"std\": 1,\n        \"min\": 0,\n        \"max\": 10,\n        \"num_unique_values\": 9,\n        \"samples\": [\n          7,\n          0,\n          5\n        ],\n        \"semantic_type\": \"\",\n        \"description\": \"\"\n      }\n    },\n    {\n      \"column\": \"Survived\",\n      \"properties\": {\n        \"dtype\": \"number\",\n        \"std\": 0,\n        \"min\": 0,\n        \"max\": 1,\n        \"num_unique_values\": 2,\n        \"samples\": [\n          1,\n          0\n        ],\n        \"semantic_type\": \"\",\n        \"description\": \"\"\n      }\n    }\n  ]\n}"
            }
          },
          "metadata": {},
          "execution_count": 102
        }
      ]
    },
    {
      "cell_type": "code",
      "source": [
        "df.info()"
      ],
      "metadata": {
        "colab": {
          "base_uri": "https://localhost:8080/"
        },
        "id": "t0gwxrjniP9M",
        "outputId": "fb89e71e-69c6-48d6-f302-fcbe69ac6f2c"
      },
      "execution_count": 103,
      "outputs": [
        {
          "output_type": "stream",
          "name": "stdout",
          "text": [
            "<class 'pandas.core.frame.DataFrame'>\n",
            "RangeIndex: 891 entries, 0 to 890\n",
            "Data columns (total 4 columns):\n",
            " #   Column    Non-Null Count  Dtype  \n",
            "---  ------    --------------  -----  \n",
            " 0   Age       714 non-null    float64\n",
            " 1   Fare      846 non-null    float64\n",
            " 2   Family    891 non-null    int64  \n",
            " 3   Survived  891 non-null    int64  \n",
            "dtypes: float64(2), int64(2)\n",
            "memory usage: 28.0 KB\n"
          ]
        }
      ]
    },
    {
      "cell_type": "code",
      "source": [
        "df.isnull().mean()*100"
      ],
      "metadata": {
        "colab": {
          "base_uri": "https://localhost:8080/",
          "height": 210
        },
        "id": "QpZaqKAXiTYz",
        "outputId": "0423a87e-6d18-4d9d-8895-ae83ae18a32f"
      },
      "execution_count": 104,
      "outputs": [
        {
          "output_type": "execute_result",
          "data": {
            "text/plain": [
              "Age         19.865320\n",
              "Fare         5.050505\n",
              "Family       0.000000\n",
              "Survived     0.000000\n",
              "dtype: float64"
            ],
            "text/html": [
              "<div>\n",
              "<style scoped>\n",
              "    .dataframe tbody tr th:only-of-type {\n",
              "        vertical-align: middle;\n",
              "    }\n",
              "\n",
              "    .dataframe tbody tr th {\n",
              "        vertical-align: top;\n",
              "    }\n",
              "\n",
              "    .dataframe thead th {\n",
              "        text-align: right;\n",
              "    }\n",
              "</style>\n",
              "<table border=\"1\" class=\"dataframe\">\n",
              "  <thead>\n",
              "    <tr style=\"text-align: right;\">\n",
              "      <th></th>\n",
              "      <th>0</th>\n",
              "    </tr>\n",
              "  </thead>\n",
              "  <tbody>\n",
              "    <tr>\n",
              "      <th>Age</th>\n",
              "      <td>19.865320</td>\n",
              "    </tr>\n",
              "    <tr>\n",
              "      <th>Fare</th>\n",
              "      <td>5.050505</td>\n",
              "    </tr>\n",
              "    <tr>\n",
              "      <th>Family</th>\n",
              "      <td>0.000000</td>\n",
              "    </tr>\n",
              "    <tr>\n",
              "      <th>Survived</th>\n",
              "      <td>0.000000</td>\n",
              "    </tr>\n",
              "  </tbody>\n",
              "</table>\n",
              "</div><br><label><b>dtype:</b> float64</label>"
            ]
          },
          "metadata": {},
          "execution_count": 104
        }
      ]
    },
    {
      "cell_type": "code",
      "source": [
        "x = df.drop(columns=['Survived'])\n",
        "y = df['Survived']\n"
      ],
      "metadata": {
        "id": "mn0T9n4yiZDX"
      },
      "execution_count": 105,
      "outputs": []
    },
    {
      "cell_type": "code",
      "source": [
        "x_train,x_test,y_train,y_test = train_test_split(x,y,test_size=0.2,random_state=42)"
      ],
      "metadata": {
        "id": "aH6faRyhiilx"
      },
      "execution_count": 106,
      "outputs": []
    },
    {
      "cell_type": "code",
      "source": [
        "x_train.shape,x_test.shape"
      ],
      "metadata": {
        "colab": {
          "base_uri": "https://localhost:8080/"
        },
        "id": "qsgtLedlilps",
        "outputId": "23c931e9-1b0c-4c86-d9ea-e25dac7ecbf3"
      },
      "execution_count": 107,
      "outputs": [
        {
          "output_type": "execute_result",
          "data": {
            "text/plain": [
              "((712, 3), (179, 3))"
            ]
          },
          "metadata": {},
          "execution_count": 107
        }
      ]
    },
    {
      "cell_type": "code",
      "source": [
        "si_age = SimpleImputer(strategy='constant',fill_value=99)\n",
        "si_fare = SimpleImputer(strategy='constant',fill_value=999)"
      ],
      "metadata": {
        "id": "qIcAdoGumbYJ"
      },
      "execution_count": 108,
      "outputs": []
    },
    {
      "cell_type": "code",
      "source": [
        "trf = ColumnTransformer([\n",
        "    ('si_age',si_age,['Age']),\n",
        "    ('si_fare',si_fare,['Fare'])\n",
        "],remainder='passthrough')"
      ],
      "metadata": {
        "id": "TPmJIrqwm5JT"
      },
      "execution_count": 109,
      "outputs": []
    },
    {
      "cell_type": "code",
      "source": [
        "x_train_transformed = trf.fit_transform(x_train)\n",
        "x_test_transformed = trf.transform(x_test)"
      ],
      "metadata": {
        "id": "wXYCaxzJnf0c"
      },
      "execution_count": 114,
      "outputs": []
    },
    {
      "cell_type": "code",
      "source": [
        "trf.named_transformers_['si_age'].statistics_"
      ],
      "metadata": {
        "colab": {
          "base_uri": "https://localhost:8080/"
        },
        "id": "F4dWw6X4pNRP",
        "outputId": "4d836e08-0d97-45cc-eedb-3ca250afaa5a"
      },
      "execution_count": 118,
      "outputs": [
        {
          "output_type": "execute_result",
          "data": {
            "text/plain": [
              "array([99.])"
            ]
          },
          "metadata": {},
          "execution_count": 118
        }
      ]
    },
    {
      "cell_type": "code",
      "source": [
        "trf.named_transformers_['si_fare'].statistics_"
      ],
      "metadata": {
        "colab": {
          "base_uri": "https://localhost:8080/"
        },
        "id": "gG-JAju5qPuf",
        "outputId": "c9598fc7-646f-42c1-d144-820ef73ed0d3"
      },
      "execution_count": 120,
      "outputs": [
        {
          "output_type": "execute_result",
          "data": {
            "text/plain": [
              "array([999.])"
            ]
          },
          "metadata": {},
          "execution_count": 120
        }
      ]
    },
    {
      "cell_type": "code",
      "source": [
        "x_train_transformed"
      ],
      "metadata": {
        "colab": {
          "base_uri": "https://localhost:8080/"
        },
        "id": "3s8tUjBHqY0-",
        "outputId": "5a63be87-ad5d-40d0-e350-49c9709434ee"
      },
      "execution_count": 121,
      "outputs": [
        {
          "output_type": "execute_result",
          "data": {
            "text/plain": [
              "array([[ 45.5   ,  28.5   ,   0.    ],\n",
              "       [ 23.    ,  13.    ,   0.    ],\n",
              "       [ 32.    ,   7.925 ,   0.    ],\n",
              "       ...,\n",
              "       [ 41.    , 999.    ,   2.    ],\n",
              "       [ 14.    , 120.    ,   3.    ],\n",
              "       [ 21.    ,  77.2875,   1.    ]])"
            ]
          },
          "metadata": {},
          "execution_count": 121
        }
      ]
    },
    {
      "cell_type": "code",
      "source": [
        "x_test_transformed"
      ],
      "metadata": {
        "colab": {
          "base_uri": "https://localhost:8080/"
        },
        "id": "CCDr08ouqe4S",
        "outputId": "5ef7ee08-14bf-4156-ada5-1f41cfa0f873"
      },
      "execution_count": 122,
      "outputs": [
        {
          "output_type": "execute_result",
          "data": {
            "text/plain": [
              "array([[9.900000e+01, 1.524580e+01, 2.000000e+00],\n",
              "       [3.100000e+01, 1.050000e+01, 0.000000e+00],\n",
              "       [2.000000e+01, 7.925000e+00, 0.000000e+00],\n",
              "       [6.000000e+00, 3.300000e+01, 1.000000e+00],\n",
              "       [1.400000e+01, 1.124170e+01, 1.000000e+00],\n",
              "       [2.600000e+01, 7.885000e+01, 0.000000e+00],\n",
              "       [9.900000e+01, 7.750000e+00, 0.000000e+00],\n",
              "       [1.600000e+01, 1.800000e+01, 2.000000e+00],\n",
              "       [1.600000e+01, 7.750000e+00, 0.000000e+00],\n",
              "       [1.900000e+01, 2.628330e+01, 2.000000e+00],\n",
              "       [3.700000e+01, 5.310000e+01, 1.000000e+00],\n",
              "       [4.400000e+01, 8.050000e+00, 0.000000e+00],\n",
              "       [9.900000e+01, 2.546670e+01, 4.000000e+00],\n",
              "       [3.000000e+01, 7.225000e+00, 0.000000e+00],\n",
              "       [3.600000e+01, 1.300000e+01, 0.000000e+00],\n",
              "       [1.600000e+01, 3.940000e+01, 1.000000e+00],\n",
              "       [4.200000e+01, 5.255420e+01, 1.000000e+00],\n",
              "       [9.900000e+01, 7.829200e+00, 0.000000e+00],\n",
              "       [2.700000e+01, 1.300000e+01, 0.000000e+00],\n",
              "       [4.700000e+01, 5.200000e+01, 0.000000e+00],\n",
              "       [2.400000e+01, 7.895800e+00, 0.000000e+00],\n",
              "       [3.400000e+01, 2.655000e+01, 0.000000e+00],\n",
              "       [1.900000e+01, 7.854200e+00, 1.000000e+00],\n",
              "       [2.000000e+01, 9.225000e+00, 0.000000e+00],\n",
              "       [9.900000e+01, 1.450000e+01, 0.000000e+00],\n",
              "       [1.000000e+01, 2.790000e+01, 5.000000e+00],\n",
              "       [4.000000e+01, 2.772080e+01, 0.000000e+00],\n",
              "       [3.100000e+01, 9.990000e+02, 0.000000e+00],\n",
              "       [4.000000e+00, 2.790000e+01, 5.000000e+00],\n",
              "       [3.100000e+01, 7.854200e+00, 0.000000e+00],\n",
              "       [1.900000e+01, 7.895800e+00, 0.000000e+00],\n",
              "       [2.200000e+01, 7.750000e+00, 0.000000e+00],\n",
              "       [9.900000e+01, 3.069580e+01, 0.000000e+00],\n",
              "       [9.900000e+01, 7.550000e+00, 0.000000e+00],\n",
              "       [1.800000e+01, 8.050000e+00, 0.000000e+00],\n",
              "       [2.700000e+01, 1.445420e+01, 1.000000e+00],\n",
              "       [2.800000e+01, 3.550000e+01, 0.000000e+00],\n",
              "       [9.900000e+01, 7.750000e+00, 0.000000e+00],\n",
              "       [3.000000e+01, 3.100000e+01, 0.000000e+00],\n",
              "       [9.900000e+01, 7.895800e+00, 0.000000e+00],\n",
              "       [2.100000e+01, 7.350000e+01, 2.000000e+00],\n",
              "       [2.900000e+01, 7.045800e+00, 1.000000e+00],\n",
              "       [9.900000e+01, 8.050000e+00, 0.000000e+00],\n",
              "       [9.900000e+01, 7.750000e+00, 0.000000e+00],\n",
              "       [4.500000e+01, 1.445420e+01, 1.000000e+00],\n",
              "       [1.600000e+01, 3.437500e+01, 4.000000e+00],\n",
              "       [1.900000e+01, 8.158300e+00, 0.000000e+00],\n",
              "       [2.300000e+01, 9.225000e+00, 0.000000e+00],\n",
              "       [2.400000e+01, 7.050000e+00, 0.000000e+00],\n",
              "       [5.800000e+01, 1.132750e+02, 2.000000e+00],\n",
              "       [5.000000e+00, 1.925830e+01, 3.000000e+00],\n",
              "       [5.200000e+01, 9.350000e+01, 2.000000e+00],\n",
              "       [4.000000e+01, 2.790000e+01, 5.000000e+00],\n",
              "       [1.100000e+01, 1.200000e+02, 3.000000e+00],\n",
              "       [6.500000e+01, 7.750000e+00, 0.000000e+00],\n",
              "       [1.800000e+01, 7.965000e+01, 2.000000e+00],\n",
              "       [3.200000e+01, 1.050000e+01, 0.000000e+00],\n",
              "       [5.000000e+01, 2.475208e+02, 1.000000e+00],\n",
              "       [3.500000e+01, 9.990000e+02, 0.000000e+00],\n",
              "       [1.900000e+01, 7.879200e+00, 0.000000e+00],\n",
              "       [2.100000e+01, 7.775000e+00, 0.000000e+00],\n",
              "       [1.300000e+01, 1.950000e+01, 1.000000e+00],\n",
              "       [2.800000e+01, 2.600000e+01, 1.000000e+00],\n",
              "       [9.900000e+01, 2.592500e+01, 0.000000e+00],\n",
              "       [9.900000e+01, 7.750000e+00, 0.000000e+00],\n",
              "       [5.700000e+01, 1.050000e+01, 0.000000e+00],\n",
              "       [2.100000e+01, 7.350000e+01, 0.000000e+00],\n",
              "       [2.900000e+01, 7.875000e+00, 0.000000e+00],\n",
              "       [1.700000e+01, 7.229200e+00, 2.000000e+00],\n",
              "       [5.200000e+01, 7.826670e+01, 1.000000e+00],\n",
              "       [2.600000e+01, 2.600000e+01, 2.000000e+00],\n",
              "       [1.800000e+01, 2.623750e+02, 4.000000e+00],\n",
              "       [2.600000e+01, 9.990000e+02, 0.000000e+00],\n",
              "       [3.900000e+01, 8.315830e+01, 2.000000e+00],\n",
              "       [2.300000e+01, 7.854200e+00, 0.000000e+00],\n",
              "       [3.600000e+01, 1.555000e+01, 1.000000e+00],\n",
              "       [3.050000e+01, 7.750000e+00, 0.000000e+00],\n",
              "       [2.200000e+01, 4.950000e+01, 2.000000e+00],\n",
              "       [3.800000e+01, 1.300000e+01, 0.000000e+00],\n",
              "       [4.100000e+01, 2.021250e+01, 2.000000e+00],\n",
              "       [1.600000e+01, 9.990000e+02, 5.000000e+00],\n",
              "       [2.900000e+01, 1.050000e+01, 0.000000e+00],\n",
              "       [4.000000e+01, 1.345000e+02, 2.000000e+00],\n",
              "       [9.900000e+01, 7.737500e+00, 0.000000e+00],\n",
              "       [5.600000e+01, 3.069580e+01, 0.000000e+00],\n",
              "       [7.100000e+01, 4.950420e+01, 0.000000e+00],\n",
              "       [3.100000e+01, 1.132750e+02, 1.000000e+00],\n",
              "       [3.000000e+01, 5.692920e+01, 0.000000e+00],\n",
              "       [3.800000e+01, 0.000000e+00, 0.000000e+00],\n",
              "       [9.900000e+01, 7.250000e+00, 0.000000e+00],\n",
              "       [9.000000e+00, 2.052500e+01, 2.000000e+00],\n",
              "       [9.000000e+00, 3.127500e+01, 6.000000e+00],\n",
              "       [6.100000e+01, 3.232080e+01, 0.000000e+00],\n",
              "       [9.900000e+01, 7.729200e+00, 0.000000e+00],\n",
              "       [9.900000e+01, 7.895800e+00, 0.000000e+00],\n",
              "       [2.800000e+01, 9.990000e+02, 0.000000e+00],\n",
              "       [4.800000e+01, 5.200000e+01, 1.000000e+00],\n",
              "       [4.500000e+01, 8.050000e+00, 0.000000e+00],\n",
              "       [3.600000e+01, 9.990000e+02, 0.000000e+00],\n",
              "       [2.700000e+01, 7.895800e+00, 0.000000e+00],\n",
              "       [6.400000e+01, 2.600000e+01, 0.000000e+00],\n",
              "       [3.500000e+01, 7.125000e+00, 0.000000e+00],\n",
              "       [1.900000e+01, 9.107920e+01, 1.000000e+00],\n",
              "       [3.800000e+01, 7.050000e+00, 0.000000e+00],\n",
              "       [3.050000e+01, 8.050000e+00, 0.000000e+00],\n",
              "       [2.500000e+01, 7.775000e+00, 1.000000e+00],\n",
              "       [4.000000e+01, 3.900000e+01, 2.000000e+00],\n",
              "       [4.700000e+01, 3.850000e+01, 0.000000e+00],\n",
              "       [3.000000e+01, 9.500000e+00, 0.000000e+00],\n",
              "       [4.000000e+01, 3.100000e+01, 0.000000e+00],\n",
              "       [9.900000e+01, 5.200000e+01, 1.000000e+00],\n",
              "       [2.050000e+01, 7.250000e+00, 0.000000e+00],\n",
              "       [9.900000e+01, 8.910420e+01, 1.000000e+00],\n",
              "       [3.600000e+01, 2.628750e+01, 0.000000e+00],\n",
              "       [9.900000e+01, 2.217792e+02, 0.000000e+00],\n",
              "       [2.000000e+01, 9.845800e+00, 0.000000e+00],\n",
              "       [7.100000e+01, 3.465420e+01, 0.000000e+00],\n",
              "       [3.600000e+01, 1.287500e+01, 0.000000e+00],\n",
              "       [2.200000e+01, 2.900000e+01, 2.000000e+00],\n",
              "       [4.800000e+01, 3.437500e+01, 4.000000e+00],\n",
              "       [2.300000e+01, 1.150000e+01, 3.000000e+00],\n",
              "       [3.200000e+01, 7.629170e+01, 0.000000e+00],\n",
              "       [6.300000e+01, 7.795830e+01, 1.000000e+00],\n",
              "       [8.300000e-01, 2.900000e+01, 2.000000e+00],\n",
              "       [2.500000e+01, 7.250000e+00, 0.000000e+00],\n",
              "       [3.500000e+01, 2.655000e+01, 0.000000e+00],\n",
              "       [4.900000e+01, 2.592920e+01, 0.000000e+00],\n",
              "       [2.400000e+01, 7.920000e+01, 0.000000e+00],\n",
              "       [9.900000e+01, 1.445830e+01, 1.000000e+00],\n",
              "       [2.100000e+01, 8.050000e+00, 0.000000e+00],\n",
              "       [9.900000e+01, 7.879200e+00, 0.000000e+00],\n",
              "       [9.900000e+01, 1.524580e+01, 2.000000e+00],\n",
              "       [9.900000e+01, 0.000000e+00, 0.000000e+00],\n",
              "       [5.000000e+00, 1.247500e+01, 0.000000e+00],\n",
              "       [4.900000e+01, 5.692920e+01, 1.000000e+00],\n",
              "       [1.500000e+01, 1.445420e+01, 1.000000e+00],\n",
              "       [9.900000e+01, 1.108833e+02, 0.000000e+00],\n",
              "       [2.900000e+01, 7.775000e+00, 0.000000e+00],\n",
              "       [4.200000e+01, 7.550000e+00, 0.000000e+00],\n",
              "       [1.800000e+01, 1.780000e+01, 1.000000e+00],\n",
              "       [2.100000e+01, 8.433300e+00, 0.000000e+00],\n",
              "       [4.400000e+01, 2.600000e+01, 1.000000e+00],\n",
              "       [2.800000e+01, 1.300000e+01, 0.000000e+00],\n",
              "       [3.700000e+01, 2.600000e+01, 1.000000e+00],\n",
              "       [3.900000e+01, 2.912500e+01, 5.000000e+00],\n",
              "       [3.400000e+01, 3.250000e+01, 2.000000e+00],\n",
              "       [3.000000e+01, 1.300000e+01, 0.000000e+00],\n",
              "       [6.600000e+01, 1.050000e+01, 0.000000e+00],\n",
              "       [9.900000e+01, 1.465208e+02, 1.000000e+00],\n",
              "       [4.300000e+01, 8.050000e+00, 0.000000e+00],\n",
              "       [9.900000e+01, 8.712500e+00, 0.000000e+00],\n",
              "       [2.400000e+01, 7.495800e+00, 0.000000e+00],\n",
              "       [1.800000e+01, 7.795800e+00, 0.000000e+00],\n",
              "       [9.900000e+01, 2.415000e+01, 1.000000e+00],\n",
              "       [9.900000e+01, 8.050000e+00, 0.000000e+00],\n",
              "       [9.900000e+01, 7.050000e+00, 0.000000e+00],\n",
              "       [9.900000e+01, 5.649580e+01, 0.000000e+00],\n",
              "       [9.900000e+01, 9.990000e+02, 0.000000e+00],\n",
              "       [3.600000e+01, 9.990000e+02, 1.000000e+00],\n",
              "       [3.200000e+01, 1.550000e+01, 2.000000e+00],\n",
              "       [2.350000e+01, 7.229200e+00, 0.000000e+00],\n",
              "       [9.900000e+01, 2.655000e+01, 0.000000e+00],\n",
              "       [3.900000e+01, 1.300000e+01, 0.000000e+00],\n",
              "       [9.900000e+01, 8.217080e+01, 1.000000e+00],\n",
              "       [9.900000e+01, 8.458300e+00, 0.000000e+00],\n",
              "       [6.500000e+01, 6.197920e+01, 1.000000e+00],\n",
              "       [2.300000e+01, 1.050000e+01, 0.000000e+00],\n",
              "       [9.900000e+01, 5.186250e+01, 1.000000e+00],\n",
              "       [2.200000e+01, 9.990000e+02, 0.000000e+00],\n",
              "       [3.500000e+01, 7.050000e+00, 0.000000e+00],\n",
              "       [2.300000e+01, 6.335830e+01, 1.000000e+00],\n",
              "       [1.800000e+01, 1.300000e+01, 2.000000e+00],\n",
              "       [3.600000e+01, 2.638750e+01, 0.000000e+00],\n",
              "       [9.000000e+00, 1.524580e+01, 2.000000e+00],\n",
              "       [1.700000e+01, 7.125000e+00, 0.000000e+00],\n",
              "       [9.900000e+01, 7.225000e+00, 0.000000e+00],\n",
              "       [3.800000e+01, 3.138750e+01, 6.000000e+00],\n",
              "       [1.700000e+01, 1.050000e+01, 0.000000e+00],\n",
              "       [4.000000e+00, 1.670000e+01, 2.000000e+00]])"
            ]
          },
          "metadata": {},
          "execution_count": 122
        }
      ]
    },
    {
      "cell_type": "code",
      "source": [],
      "metadata": {
        "id": "DoIlf7q7qgOL"
      },
      "execution_count": null,
      "outputs": []
    }
  ]
}